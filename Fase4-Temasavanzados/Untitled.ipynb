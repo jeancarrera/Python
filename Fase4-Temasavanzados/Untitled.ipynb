{
 "cells": [
  {
   "cell_type": "code",
   "execution_count": 4,
   "id": "9291ed00",
   "metadata": {},
   "outputs": [],
   "source": [
    "from tkinter import *\n",
    "\n",
    "root = Tk()\n",
    "root.title(\"Hola mundo\") # title o titulo de ventana\n",
    "# root.iconbitmap(\"hola.ico\") # iconbitmap ingresa imagenes al borde la ventana\n",
    "root.resizable(1,1)# resizable para permitir  el movimento de la ventana\n",
    "\n",
    "frame = Frame(root,width=480,height=320)\n",
    "frame.pack(fill=\"both\", expand=1)#fill ancla algun bloque interno de la navegacion ya sea en X o Y, expand permite ajustar el alto  \n",
    "frame.config(cursor=\"pirate\")#cursor  sirve para modificar el cursor dentro de la navegacion \n",
    "frame.config(bg=\"lightblue\")# \"bg\" diminutivo de background se encarga del fondo de la navegacion \n",
    "#frame.config(bg=20)#\n",
    "frame.config(relief=\"sunken\")#relief  sirve para modificar el tipo de borde \n",
    "#frame.config()#la opcion config se usa para modificar el entorno y las configuraciones de la navegacion, \"width\" es ancho de la ventana y height es el alto de la ventana, se expresan en pixeles los digitos de amplitud  \n",
    "\n",
    "\n",
    "\n",
    "root.config(cursor=\"arrow\")\n",
    "root.config(bg=\"blue\")\n",
    "#root.config(bg=15)\n",
    "root.config(relief=\"ridge\")\n",
    "\n",
    "\n",
    "\n",
    "root.mainloop()# finaliza el bucle de la aplicación\n"
   ]
  },
  {
   "cell_type": "code",
   "execution_count": null,
   "id": "0ad3f055",
   "metadata": {},
   "outputs": [],
   "source": []
  }
 ],
 "metadata": {
  "kernelspec": {
   "display_name": "Python 3 (ipykernel)",
   "language": "python",
   "name": "python3"
  },
  "language_info": {
   "codemirror_mode": {
    "name": "ipython",
    "version": 3
   },
   "file_extension": ".py",
   "mimetype": "text/x-python",
   "name": "python",
   "nbconvert_exporter": "python",
   "pygments_lexer": "ipython3",
   "version": "3.10.4"
  }
 },
 "nbformat": 4,
 "nbformat_minor": 5
}
