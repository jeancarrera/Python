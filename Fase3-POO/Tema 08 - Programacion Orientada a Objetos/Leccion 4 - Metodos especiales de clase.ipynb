{
 "cells": [
  {
   "cell_type": "code",
   "execution_count": 8,
   "metadata": {},
   "outputs": [
    {
     "name": "stdout",
     "output_type": "stream",
     "text": [
      "SE A CREADO LA PELICULA  el padrino\n",
      "se esta borrando la pelicula\n"
     ]
    }
   ],
   "source": [
    "class Pelicula():\n",
    "    # constructor de clases\n",
    "    def __init__(self,titulo,duracion,lanzamiento):\n",
    "        self.titulo = titulo\n",
    "        self.duracion = duracion\n",
    "        self.lanzamiento = lanzamiento\n",
    "        \n",
    "        print(\"SE A CREADO LA PELICULA \", self.titulo)\n",
    "    # destructor de peliculas\n",
    "    def __del__(self):\n",
    "        print('se esta borrando la pelicula')\n",
    "p =  Pelicula(\"el padrino\",175,1972)\n",
    "del (p)"
   ]
  },
  {
   "cell_type": "code",
   "execution_count": 6,
   "metadata": {},
   "outputs": [
    {
     "data": {
      "text/plain": [
       "'10'"
      ]
     },
     "execution_count": 6,
     "metadata": {},
     "output_type": "execute_result"
    }
   ],
   "source": [
    "str(10)"
   ]
  },
  {
   "cell_type": "code",
   "execution_count": 7,
   "metadata": {},
   "outputs": [
    {
     "ename": "NameError",
     "evalue": "name 'p' is not defined",
     "output_type": "error",
     "traceback": [
      "\u001b[1;31m---------------------------------------------------------------------------\u001b[0m",
      "\u001b[1;31mNameError\u001b[0m                                 Traceback (most recent call last)",
      "\u001b[1;32mc:\\Users\\casan\\OneDrive\\Escritorio\\CursoPython\\Fase 3 - Programacion Orientada a Objetos\\Tema 08 - Programacion Orientada a Objetos\\Leccion 4 - Metodos especiales de clase.ipynb Celda 3\u001b[0m in \u001b[0;36m<cell line: 1>\u001b[1;34m()\u001b[0m\n\u001b[1;32m----> <a href='vscode-notebook-cell:/c%3A/Users/casan/OneDrive/Escritorio/CursoPython/Fase%203%20-%20Programacion%20Orientada%20a%20Objetos/Tema%2008%20-%20Programacion%20Orientada%20a%20Objetos/Leccion%204%20-%20Metodos%20especiales%20de%20clase.ipynb#W2sZmlsZQ%3D%3D?line=0'>1</a>\u001b[0m \u001b[39mstr\u001b[39m(p)\n",
      "\u001b[1;31mNameError\u001b[0m: name 'p' is not defined"
     ]
    }
   ],
   "source": [
    "p = Pelicula()\n",
    "str(p)"
   ]
  },
  {
   "cell_type": "code",
   "execution_count": 12,
   "metadata": {},
   "outputs": [
    {
     "name": "stdout",
     "output_type": "stream",
     "text": [
      "SE A CREADO LA PELICULA  el padrino\n"
     ]
    }
   ],
   "source": [
    "class Pelicula():\n",
    "    # constructor de clases\n",
    "    def __init__(self,titulo,duracion,lanzamiento):\n",
    "        self.titulo = titulo\n",
    "        self.duracion = duracion\n",
    "        self.lanzamiento = lanzamiento\n",
    "        \n",
    "        print(\"SE A CREADO LA PELICULA \", self.titulo)\n",
    "    # destructor de peliculas\n",
    "    def __del__(self):\n",
    "        print('se esta borrando la pelicula')\n",
    "    \n",
    "    def __str__(self) -> str:\n",
    "        return \"{} lanzada en el {} con una duracion de {} minutos \". format(self.titulo,self.lanzamiento,self.duracion)\n",
    "p =  Pelicula(\"el padrino\",175,1972)\n"
   ]
  },
  {
   "cell_type": "code",
   "execution_count": 13,
   "metadata": {},
   "outputs": [
    {
     "data": {
      "text/plain": [
       "'el padrino lanzada en el 1972 con una duracion de 175 minutos '"
      ]
     },
     "execution_count": 13,
     "metadata": {},
     "output_type": "execute_result"
    }
   ],
   "source": [
    "str(p)"
   ]
  },
  {
   "cell_type": "code",
   "execution_count": 15,
   "metadata": {},
   "outputs": [
    {
     "name": "stdout",
     "output_type": "stream",
     "text": [
      "SE A CREADO LA PELICULA  el padrino\n",
      "se esta borrando la pelicula\n"
     ]
    },
    {
     "data": {
      "text/plain": [
       "175"
      ]
     },
     "execution_count": 15,
     "metadata": {},
     "output_type": "execute_result"
    }
   ],
   "source": [
    "class Pelicula():\n",
    "    # constructor de clases\n",
    "    def __init__(self,titulo,duracion,lanzamiento):\n",
    "        self.titulo = titulo\n",
    "        self.duracion = duracion\n",
    "        self.lanzamiento = lanzamiento\n",
    "        \n",
    "        print(\"SE A CREADO LA PELICULA \", self.titulo)\n",
    "    # destructor de peliculas\n",
    "    def __del__(self):\n",
    "        print('se esta borrando la pelicula')\n",
    "    \n",
    "    def __str__(self) -> str:\n",
    "        return \"{} lanzada en el {} con una duracion de {} minutos \". format(self.titulo,self.lanzamiento,self.duracion)\n",
    "\n",
    "    def __len__(self):\n",
    "        return self.duracion\n",
    "p =  Pelicula(\"el padrino\",175,1972)\n",
    "len(p)\n"
   ]
  },
  {
   "cell_type": "code",
   "execution_count": null,
   "metadata": {},
   "outputs": [],
   "source": []
  }
 ],
 "metadata": {
  "kernelspec": {
   "display_name": "Python 3.10.4 64-bit",
   "language": "python",
   "name": "python3"
  },
  "language_info": {
   "codemirror_mode": {
    "name": "ipython",
    "version": 3
   },
   "file_extension": ".py",
   "mimetype": "text/x-python",
   "name": "python",
   "nbconvert_exporter": "python",
   "pygments_lexer": "ipython3",
   "version": "3.10.4"
  },
  "vscode": {
   "interpreter": {
    "hash": "a5ef747b9192401dc7ce0029dcbc5ba90f4285b047386242bdc9d3ecd272a583"
   }
  }
 },
 "nbformat": 4,
 "nbformat_minor": 0
}
