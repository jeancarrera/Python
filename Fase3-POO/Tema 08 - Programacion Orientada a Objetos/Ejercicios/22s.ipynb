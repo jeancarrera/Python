{
 "cells": [
  {
   "cell_type": "code",
   "execution_count": 16,
   "metadata": {},
   "outputs": [
    {
     "name": "stdout",
     "output_type": "stream",
     "text": [
      "la base del rectangulo es 3 \n",
      "la altura del rectangulo es 2 \n",
      "el area del rectangulo es 6 \n"
     ]
    }
   ],
   "source": [
    "import math\n",
    "math.sqrt(9)\n",
    "class Punto:\n",
    "    def __init__(self, x=0,y=0):\n",
    "        self.x= x\n",
    "        self.y= y\n",
    "    def __str__(self):\n",
    "        return '({}, {})'.format(self.x,self.y)\n",
    "    def cuadrante(self):\n",
    "        if self.x > 0 and self.y > 0:\n",
    "            print(\"{} pertenece al primer cuadrante\".format(self))\n",
    "        elif self.x < 0 and self.y > 0: \n",
    "            print(\"{} pertenece al segundo cuadrante\".format(self))\n",
    "        elif self.x < 0 and self.y < 0:\n",
    "            print(\"{} pertenece al tercer cuadrante\".format(self))\n",
    "        elif self.x>0 and self.y >0:\n",
    "            print(\"{} pertenece al cuarto cuadrante\".format(self))\n",
    "        else:\n",
    "            print(\"{} esta en el margen de origen \".format(self))\n",
    "            \n",
    "    def vector(self, p):\n",
    "            print(\"el vector entre {} y {} es ({}, {})\".format(self,p,p.x,p.y - self.y) )\n",
    "        \n",
    "    def distancia(self, p):\n",
    "            d = math.sqrt((p.x -self.x)**2 + (p.y * self.y)**2)\n",
    "            print('la distancia entre los puntos es {} y {} es {}'.format(self,p,d))\n",
    "\n",
    "class Rectangulo:            \n",
    "    def __init__(self, pInicial=Punto(), pFinal=Punto()):\n",
    "        \n",
    "        self.pInicial = pInicial\n",
    "        self.pFinal = pFinal\n",
    "    \n",
    "    def base(self):\n",
    "        self.base= abs(self.pFinal.x - self.pInicial.x)\n",
    "        \n",
    "        print(\"la base del rectangulo es {} \".format(self.base))\n",
    "    \n",
    "    def altura(self):\n",
    "        self.altura = abs(self.pFinal.y - self.pInicial.y)\n",
    "        \n",
    "        print(\"la altura del rectangulo es {} \".format(self.altura))\n",
    "        \n",
    "    def area(self):\n",
    "        self.base= abs(self.pFinal.x - self.pInicial.x)\n",
    "        self.altura = abs(self.pFinal.y - self.pInicial.y)\n",
    "        self.area = self.base * self.altura\n",
    "        \n",
    "        print(\"el area del rectangulo es {} \".format(self.area))\n",
    "        \n",
    "         \n",
    "\n",
    "A = Punto(2,3)\n",
    "B = Punto(5,5)\n",
    "C = Punto(0,0)    \n",
    "D = Punto(-3,-2)\n",
    "\n",
    "\n",
    "# A.cuadrante()\n",
    "# B.cuadrante()\n",
    "# C.cuadrante()\n",
    "# D.cuadrante()\n",
    "\n",
    "# A.vector(B)\n",
    "# B.vector(A)\n",
    "\n",
    "# A.distancia(D)\n",
    "# B.distancia(D)\n",
    "# C.distancia(D)\n",
    "R = Rectangulo(A,B)\n",
    "R.base()\n",
    "R.altura()\n",
    "R.area()\n",
    "\n",
    "    "
   ]
  },
  {
   "cell_type": "code",
   "execution_count": null,
   "metadata": {},
   "outputs": [],
   "source": []
  }
 ],
 "metadata": {
  "kernelspec": {
   "display_name": "Python 3.10.4 64-bit",
   "language": "python",
   "name": "python3"
  },
  "language_info": {
   "codemirror_mode": {
    "name": "ipython",
    "version": 3
   },
   "file_extension": ".py",
   "mimetype": "text/x-python",
   "name": "python",
   "nbconvert_exporter": "python",
   "pygments_lexer": "ipython3",
   "version": "3.10.4"
  },
  "orig_nbformat": 4,
  "vscode": {
   "interpreter": {
    "hash": "a5ef747b9192401dc7ce0029dcbc5ba90f4285b047386242bdc9d3ecd272a583"
   }
  }
 },
 "nbformat": 4,
 "nbformat_minor": 2
}
