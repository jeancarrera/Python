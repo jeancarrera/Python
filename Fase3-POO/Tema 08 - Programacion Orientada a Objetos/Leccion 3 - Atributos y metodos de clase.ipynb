{
 "cells": [
  {
   "cell_type": "code",
   "execution_count": 1,
   "metadata": {},
   "outputs": [],
   "source": [
    "class Galleta: \n",
    "    pass\n",
    "una_galleta= Galleta()\n"
   ]
  },
  {
   "cell_type": "code",
   "execution_count": 2,
   "metadata": {},
   "outputs": [],
   "source": [
    "una_galleta.sabor = \"salados\""
   ]
  },
  {
   "cell_type": "code",
   "execution_count": 3,
   "metadata": {},
   "outputs": [],
   "source": [
    "una_galleta.color=\"Marron\""
   ]
  },
  {
   "cell_type": "code",
   "execution_count": 4,
   "metadata": {},
   "outputs": [
    {
     "name": "stdout",
     "output_type": "stream",
     "text": [
      "el sabor de esta galleta es  salados\n"
     ]
    }
   ],
   "source": [
    "print(\"el sabor de esta galleta es \",una_galleta.sabor)"
   ]
  },
  {
   "cell_type": "code",
   "execution_count": 6,
   "metadata": {},
   "outputs": [
    {
     "data": {
      "text/plain": [
       "False"
      ]
     },
     "execution_count": 6,
     "metadata": {},
     "output_type": "execute_result"
    }
   ],
   "source": [
    "class Galleta:\n",
    "    chocolate = False\n",
    "\n",
    "una_galleta = Galleta()\n",
    "una_galleta.chocolate"
   ]
  },
  {
   "cell_type": "code",
   "execution_count": 8,
   "metadata": {},
   "outputs": [],
   "source": [
    "una_galleta.chocolate= True"
   ]
  },
  {
   "cell_type": "code",
   "execution_count": 9,
   "metadata": {},
   "outputs": [
    {
     "name": "stdout",
     "output_type": "stream",
     "text": [
      "se acaba de crear una galleta. \n"
     ]
    }
   ],
   "source": [
    "class Galleta():\n",
    "    chocolate = False\n",
    "    def __init__(self):\n",
    "        print(\"se acaba de crear una galleta. \")\n",
    "g = Galleta()\n",
    "    "
   ]
  },
  {
   "cell_type": "code",
   "execution_count": 15,
   "metadata": {},
   "outputs": [
    {
     "name": "stdout",
     "output_type": "stream",
     "text": [
      "se acaba de crear una galleta. \n",
      "no tiene chocolate\n",
      "tiene chocolate\n"
     ]
    }
   ],
   "source": [
    "class Galleta():\n",
    "    chocolate = False\n",
    "    def __init__(self):\n",
    "        print(\"se acaba de crear una galleta. \")\n",
    "    def chocolatear(self):\n",
    "        self.chocolate = True\n",
    "    def tiene_chocolate(self):\n",
    "        if (self.chocolate):\n",
    "            print(\"tiene chocolate\")\n",
    "        else:\n",
    "            print(\"no tiene chocolate\")\n",
    "g = Galleta()\n",
    "g.tiene_chocolate()\n",
    "g.chocolatear()\n",
    "g.tiene_chocolate()\n",
    "    "
   ]
  },
  {
   "cell_type": "markdown",
   "metadata": {},
   "source": []
  },
  {
   "cell_type": "code",
   "execution_count": 22,
   "metadata": {},
   "outputs": [
    {
     "name": "stdout",
     "output_type": "stream",
     "text": [
      "Soy una galleta chocolateada :-D\n",
      "Soy una galleta chocolateada :-D\n"
     ]
    }
   ],
   "source": [
    "class Galleta():\n",
    "    chocolate = False\n",
    "    def __init__(self, sabor,color):\n",
    "        self.sabor = sabor\n",
    "        self.color = color\n",
    "        print(\"se acaba de crear una galleta  {} y {} \". format(sabor,color))\n",
    "    def chocolatear(self):\n",
    "        self.chocolate = True\n",
    "    def tiene_chocolate(self):\n",
    "        if (self.chocolate):\n",
    "            print(\"tiene chocolate\")\n",
    "        else:\n",
    "            print(\"no tiene chocolate\")\n",
    "# g = Galleta()\n",
    "g.tiene_chocolate()\n",
    "g.chocolatear()\n",
    "g.tiene_chocolate()\n",
    "    \n",
    "#"
   ]
  },
  {
   "cell_type": "code",
   "execution_count": null,
   "metadata": {},
   "outputs": [],
   "source": [
    "#  class Galleta():\n",
    "#     chocolate = False\n",
    "    \n",
    "#     def __init__(self):\n",
    "#         print(\"Se acaba de crear una galleta.\")\n",
    "    \n",
    "#     def chocolatear(self):\n",
    "#         self.chocolate = True\n",
    "        \n",
    "#     def tiene_chocolate(self):\n",
    "#         if (self.chocolate):\n",
    "#             print(\"Soy una galleta chocolateada :-D\")\n",
    "#         else:\n",
    "#             print(\"Soy una galleta sin chocolate :-(\")\n",
    "    \n",
    "# g = Galleta()\n",
    "# g.tiene_chocolate()\n",
    "# g.chocolatear()\n",
    "# g.tiene_chocolate()"
   ]
  }
 ],
 "metadata": {
  "kernelspec": {
   "display_name": "Python 3.10.4 64-bit",
   "language": "python",
   "name": "python3"
  },
  "language_info": {
   "codemirror_mode": {
    "name": "ipython",
    "version": 3
   },
   "file_extension": ".py",
   "mimetype": "text/x-python",
   "name": "python",
   "nbconvert_exporter": "python",
   "pygments_lexer": "ipython3",
   "version": "3.10.4"
  },
  "vscode": {
   "interpreter": {
    "hash": "a5ef747b9192401dc7ce0029dcbc5ba90f4285b047386242bdc9d3ecd272a583"
   }
  }
 },
 "nbformat": 4,
 "nbformat_minor": 0
}
