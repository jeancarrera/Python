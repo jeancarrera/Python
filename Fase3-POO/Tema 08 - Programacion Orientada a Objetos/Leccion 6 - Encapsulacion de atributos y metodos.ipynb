{
 "cells": [
  {
   "cell_type": "code",
   "execution_count": 2,
   "metadata": {},
   "outputs": [],
   "source": [
    " class Ejemplos:\n",
    "     __atributo_privado = \"soy un metodo inalcanzable\"\n",
    "     \n",
    "     def __metodo_privado(self):\n",
    "         print(\"soy un metodo inalcanzable\")"
   ]
  },
  {
   "cell_type": "code",
   "execution_count": 3,
   "metadata": {},
   "outputs": [
    {
     "ename": "NameError",
     "evalue": "name 'e' is not defined",
     "output_type": "error",
     "traceback": [
      "\u001b[1;31m---------------------------------------------------------------------------\u001b[0m",
      "\u001b[1;31mNameError\u001b[0m                                 Traceback (most recent call last)",
      "\u001b[1;32mc:\\Users\\casan\\OneDrive\\Escritorio\\CursoPython\\Fase 3 - Programacion Orientada a Objetos\\Tema 08 - Programacion Orientada a Objetos\\Leccion 6 - Encapsulacion de atributos y metodos.ipynb Celda 2\u001b[0m in \u001b[0;36m<cell line: 1>\u001b[1;34m()\u001b[0m\n\u001b[1;32m----> <a href='vscode-notebook-cell:/c%3A/Users/casan/OneDrive/Escritorio/CursoPython/Fase%203%20-%20Programacion%20Orientada%20a%20Objetos/Tema%2008%20-%20Programacion%20Orientada%20a%20Objetos/Leccion%206%20-%20Encapsulacion%20de%20atributos%20y%20metodos.ipynb#W1sZmlsZQ%3D%3D?line=0'>1</a>\u001b[0m e\u001b[39m.\u001b[39m__metodo_privado()\n",
      "\u001b[1;31mNameError\u001b[0m: name 'e' is not defined"
     ]
    }
   ],
   "source": [
    "e.__metodo_privado()"
   ]
  },
  {
   "cell_type": "code",
   "execution_count": null,
   "metadata": {},
   "outputs": [],
   "source": []
  }
 ],
 "metadata": {
  "kernelspec": {
   "display_name": "Python 3.10.4 64-bit",
   "language": "python",
   "name": "python3"
  },
  "language_info": {
   "codemirror_mode": {
    "name": "ipython",
    "version": 3
   },
   "file_extension": ".py",
   "mimetype": "text/x-python",
   "name": "python",
   "nbconvert_exporter": "python",
   "pygments_lexer": "ipython3",
   "version": "3.10.4"
  },
  "vscode": {
   "interpreter": {
    "hash": "a5ef747b9192401dc7ce0029dcbc5ba90f4285b047386242bdc9d3ecd272a583"
   }
  }
 },
 "nbformat": 4,
 "nbformat_minor": 0
}
