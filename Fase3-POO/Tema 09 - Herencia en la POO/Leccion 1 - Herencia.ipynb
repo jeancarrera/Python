{
 "cells": [
  {
   "cell_type": "code",
   "execution_count": 9,
   "metadata": {},
   "outputs": [],
   "source": [
    "class Productos:\n",
    "    \n",
    "    def __init__(self,referencia, tipo, nombre,pvp, descripcion, productor=None, distribuidor= None, isbn=None, autor=None ):\n",
    "        self.referencia = referencia\n",
    "        self.tipo = tipo \n",
    "        self.nombre = nombre\n",
    "        self.pvp = pvp \n",
    "        self.descripcion = descripcion\n",
    "        self.distribuidor = distribuidor\n",
    "        self.productor = productor \n",
    "        self.isbn = isbn\n",
    "        self.autor = autor\n",
    "\n",
    "adorno = Productos('000A',\"Adorno\",\"Vaso Adornado\",15, 'vaso de porcelana')"
   ]
  },
  {
   "cell_type": "code",
   "execution_count": 10,
   "metadata": {},
   "outputs": [
    {
     "data": {
      "text/plain": [
       "<__main__.Productos at 0x2f96fb00a30>"
      ]
     },
     "execution_count": 10,
     "metadata": {},
     "output_type": "execute_result"
    }
   ],
   "source": [
    "adorno"
   ]
  },
  {
   "cell_type": "code",
   "execution_count": 15,
   "metadata": {},
   "outputs": [
    {
     "name": "stdout",
     "output_type": "stream",
     "text": [
      "el producto es un Adorno de codigo 000A \n"
     ]
    }
   ],
   "source": [
    "print(\"el producto es un {} de codigo {} \".format(adorno.tipo, adorno.referencia))\n"
   ]
  },
  {
   "cell_type": "code",
   "execution_count": 30,
   "metadata": {},
   "outputs": [
    {
     "name": "stdout",
     "output_type": "stream",
     "text": [
      "\\ \n",
      "REFERENCIA\t1234\n",
      "NOMBRE\t\tvaso\n",
      "PVP\t\t20\n",
      "DESCRIPCION\tvaso de porcelana\n"
     ]
    }
   ],
   "source": [
    "class Productos:\n",
    "    \n",
    "    def __init__(self,referencia, nombre,pvp, descripcion): #productor=None, distribuidor= None, isbn=None, autor=None ):\n",
    "        self.referencia = referencia\n",
    "        self.nombre = nombre\n",
    "        self.pvp = pvp \n",
    "        self.descripcion = descripcion\n",
    "        \n",
    "    def __str__(self):\n",
    "        return \"\"\"\\ \n",
    "REFERENCIA\\t{}\n",
    "NOMBRE\\t\\t{}\n",
    "PVP\\t\\t{}\n",
    "DESCRIPCION\\t{}\"\"\".format(self.referencia,self.nombre,self.pvp,self.descripcion)\n",
    "\n",
    "class Adorno(Productos):\n",
    "    pass\n",
    "a = Adorno(1234,\"vaso\",20,\"vaso de porcelana\")\n",
    "print(a)\n",
    "\n",
    "        "
   ]
  },
  {
   "cell_type": "code",
   "execution_count": 33,
   "metadata": {},
   "outputs": [
    {
     "name": "stdout",
     "output_type": "stream",
     "text": [
      "\\ \n",
      "REFERENCIA\t2035\n",
      "NOMBRE\t\tAceite de oliva\n",
      "PVP\t\t5\n",
      "DESCRIPCION\t250ML\n",
      "PRODUCTOR\tLa aceitera\n",
      "DISTRIBUIDOR\tMavesa\n"
     ]
    }
   ],
   "source": [
    "class Alimento(Productos):\n",
    "    productor = \"\"\n",
    "    distribuidor = \"\"\n",
    "    \n",
    "    def __str__(self):\n",
    "        return \"\"\"\\ \n",
    "REFERENCIA\\t{}\n",
    "NOMBRE\\t\\t{}\n",
    "PVP\\t\\t{}\n",
    "DESCRIPCION\\t{}\n",
    "PRODUCTOR\\t{}\n",
    "DISTRIBUIDOR\\t{}\"\"\".format(self.referencia,self.nombre,self.pvp,self.descripcion,self.productor,self.distribuidor)\n",
    "\n",
    "\n",
    "\n",
    "al = Alimento(2035,\"Aceite de oliva\",5,\"250ML\")\n",
    "al.productor = \"La aceitera\"\n",
    "al.distribuidor = \"Mavesa\"   \n",
    "print(al)"
   ]
  },
  {
   "cell_type": "code",
   "execution_count": 39,
   "metadata": {},
   "outputs": [
    {
     "name": "stdout",
     "output_type": "stream",
     "text": [
      "\\ \n",
      "REFERENCIA\t2020\n",
      "NOMBRE\t\tEl principito\n",
      "PVP\t\t7\n",
      "DESCRIPCION\tlibro infantil\n",
      "ISBN\t0-13516351563-20-2\n",
      "AUTOR\tno me acuerdo\n",
      "\n"
     ]
    }
   ],
   "source": [
    "class Libro(Productos):\n",
    "    isbn = \"\"\n",
    "    autor = \"\"\n",
    "    \n",
    "    def __str__(self):\n",
    "        return \"\"\"\\ \n",
    "REFERENCIA\\t{}\n",
    "NOMBRE\\t\\t{}\n",
    "PVP\\t\\t{}\n",
    "DESCRIPCION\\t{}\n",
    "ISBN\\t{}\n",
    "AUTOR\\t{}\n",
    "\"\"\".format(self.referencia,self.nombre,self.pvp,self.descripcion,self.isbn,self.autor)\n",
    "\n",
    "li = Libro(2020,\"El principito\",7,\"libro infantil\")\n",
    "li.isbn = \"0-13516351563-20-2\"\n",
    "li.autor= \"no me acuerdo\"\n",
    " \n",
    "\n",
    "print(li)\n"
   ]
  },
  {
   "cell_type": "code",
   "execution_count": null,
   "metadata": {},
   "outputs": [],
   "source": []
  }
 ],
 "metadata": {
  "kernelspec": {
   "display_name": "Python 3.10.4 64-bit",
   "language": "python",
   "name": "python3"
  },
  "language_info": {
   "codemirror_mode": {
    "name": "ipython",
    "version": 3
   },
   "file_extension": ".py",
   "mimetype": "text/x-python",
   "name": "python",
   "nbconvert_exporter": "python",
   "pygments_lexer": "ipython3",
   "version": "3.10.4"
  },
  "vscode": {
   "interpreter": {
    "hash": "a5ef747b9192401dc7ce0029dcbc5ba90f4285b047386242bdc9d3ecd272a583"
   }
  }
 },
 "nbformat": 4,
 "nbformat_minor": 0
}
